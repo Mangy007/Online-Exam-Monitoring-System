{
  "nbformat": 4,
  "nbformat_minor": 0,
  "metadata": {
    "colab": {
      "provenance": []
    },
    "kernelspec": {
      "name": "python3",
      "display_name": "Python 3"
    },
    "language_info": {
      "name": "python"
    }
  },
  "cells": [
    {
      "cell_type": "code",
      "execution_count": null,
      "metadata": {
        "colab": {
          "base_uri": "https://localhost:8080/"
        },
        "id": "PuQkeM4562Qz",
        "outputId": "1e95c9a8-de65-4213-f41b-a606b9660457"
      },
      "outputs": [
        {
          "output_type": "stream",
          "name": "stdout",
          "text": [
            "Drive already mounted at /content/drive; to attempt to forcibly remount, call drive.mount(\"/content/drive\", force_remount=True).\n"
          ]
        }
      ],
      "source": [
        "from google.colab import drive\n",
        "drive.mount('/content/drive')"
      ]
    },
    {
      "cell_type": "code",
      "source": [
        "# %cd drive/MyDrive/Semester/3rd_sem/MSS/Project/MSS\\ PROJECT/\n",
        "%cd /content/drive/MyDrive/MSS PROJECT"
      ],
      "metadata": {
        "colab": {
          "base_uri": "https://localhost:8080/"
        },
        "id": "9JgSAchY7sDC",
        "outputId": "95ce3b41-06ea-4ecd-d4fb-ff4df3e0ab7e"
      },
      "execution_count": null,
      "outputs": [
        {
          "output_type": "stream",
          "name": "stdout",
          "text": [
            "/content/drive/MyDrive/MSS PROJECT\n"
          ]
        }
      ]
    },
    {
      "cell_type": "code",
      "source": [
        "%ls"
      ],
      "metadata": {
        "colab": {
          "base_uri": "https://localhost:8080/"
        },
        "id": "TyHP2WMo7uBP",
        "outputId": "036c38bd-fa0c-4158-c5f2-bd9f29dd71c9"
      },
      "execution_count": null,
      "outputs": [
        {
          "output_type": "stream",
          "name": "stdout",
          "text": [
            " AnomalyDetection_final_version   \u001b[0m\u001b[01;34mautoencoder\u001b[0m/            \u001b[01;34mfeatures\u001b[0m/\n",
            " AnomalyDetection_v1.ipynb        \u001b[01;34mDATASET\u001b[0m/               'MSS  PRoject.ipynb'\n",
            " AnomalyDetection_v2             \u001b[01;34m'DATASET OEP'\u001b[0m/\n",
            " AnomalyDetection_v2.1            \u001b[01;34mDATASET_OEP_FEATURES\u001b[0m/\n"
          ]
        }
      ]
    },
    {
      "cell_type": "code",
      "source": [
        "from sklearn.mixture import GaussianMixture\n",
        "from sklearn.cluster import KMeans\n",
        "from sklearn.metrics import silhouette_score, accuracy_score\n",
        "from sklearn.metrics.pairwise import cosine_similarity\n",
        "from sklearn.model_selection import train_test_split\n",
        "from sklearn.decomposition import PCA\n",
        "from sklearn.ensemble import IsolationForest\n",
        "\n",
        "import tensorflow as tf\n",
        "from tensorflow.keras.models import Model\n",
        "from tensorflow.keras import Model, Sequential\n",
        "from tensorflow.keras.layers import Dense, Dropout\n",
        "from tensorflow.keras.losses import MeanSquaredLogarithmicError\n",
        "from tensorflow.keras.optimizers import Adam\n",
        "\n",
        "import numpy as np\n",
        "import pandas as pd\n",
        "import matplotlib.pyplot as plt\n",
        "import seaborn as sns\n",
        "from scipy import stats"
      ],
      "metadata": {
        "id": "iq7WwYeM7vzM"
      },
      "execution_count": null,
      "outputs": []
    },
    {
      "cell_type": "code",
      "source": [
        "%ls ./DATASET_OEP_FEATURES/"
      ],
      "metadata": {
        "colab": {
          "base_uri": "https://localhost:8080/"
        },
        "id": "FhUi871D8JoK",
        "outputId": "da7cae87-ceb6-456e-d2a6-87c095c30a2a"
      },
      "execution_count": null,
      "outputs": [
        {
          "output_type": "stream",
          "name": "stdout",
          "text": [
            "test10.npy  test13.npy  test16.npy  test19.npy  test21.npy  test24.npy  test4.npy  test7.npy\n",
            "test11.npy  test14.npy  test17.npy  test1.npy   test22.npy  test2.npy   test5.npy  test8.npy\n",
            "test12.npy  test15.npy  test18.npy  test20.npy  test23.npy  test3.npy   test6.npy  test9.npy\n"
          ]
        }
      ]
    },
    {
      "cell_type": "markdown",
      "source": [
        "## data load"
      ],
      "metadata": {
        "id": "rDUP1LA9rOkt"
      }
    },
    {
      "cell_type": "code",
      "source": [
        "data = []\n",
        "for i in range(1,23):\n",
        "    if i==7:\n",
        "        continue\n",
        "    file_name = './DATASET_OEP_FEATURES/test{}.npy'.format(i)\n",
        "    feature_vectors = np.load(file_name)\n",
        "    print(file_name, 'shape', feature_vectors.shape)\n",
        "    data.append(feature_vectors)\n",
        "\n",
        "data = np.concatenate(data)\n",
        "print(data.shape)"
      ],
      "metadata": {
        "colab": {
          "base_uri": "https://localhost:8080/"
        },
        "id": "rBUnYtvO8C8w",
        "outputId": "d05c01c0-0efd-46aa-d32a-6b15473459fd"
      },
      "execution_count": null,
      "outputs": [
        {
          "output_type": "stream",
          "name": "stdout",
          "text": [
            "./DATASET_OEP_FEATURES/test1.npy shape (530, 1, 768)\n",
            "./DATASET_OEP_FEATURES/test2.npy shape (557, 1, 768)\n",
            "./DATASET_OEP_FEATURES/test3.npy shape (471, 1, 768)\n",
            "./DATASET_OEP_FEATURES/test4.npy shape (549, 1, 768)\n",
            "./DATASET_OEP_FEATURES/test5.npy shape (428, 1, 768)\n",
            "./DATASET_OEP_FEATURES/test6.npy shape (439, 1, 768)\n",
            "./DATASET_OEP_FEATURES/test8.npy shape (430, 1, 768)\n",
            "./DATASET_OEP_FEATURES/test9.npy shape (531, 1, 768)\n",
            "./DATASET_OEP_FEATURES/test10.npy shape (413, 1, 768)\n",
            "./DATASET_OEP_FEATURES/test11.npy shape (456, 1, 768)\n",
            "./DATASET_OEP_FEATURES/test12.npy shape (464, 1, 768)\n",
            "./DATASET_OEP_FEATURES/test13.npy shape (480, 1, 768)\n",
            "./DATASET_OEP_FEATURES/test14.npy shape (571, 1, 768)\n",
            "./DATASET_OEP_FEATURES/test15.npy shape (753, 1, 768)\n",
            "./DATASET_OEP_FEATURES/test16.npy shape (472, 1, 768)\n",
            "./DATASET_OEP_FEATURES/test17.npy shape (471, 1, 768)\n",
            "./DATASET_OEP_FEATURES/test18.npy shape (580, 1, 768)\n",
            "./DATASET_OEP_FEATURES/test19.npy shape (368, 1, 768)\n",
            "./DATASET_OEP_FEATURES/test20.npy shape (728, 1, 768)\n",
            "./DATASET_OEP_FEATURES/test21.npy shape (682, 1, 768)\n",
            "./DATASET_OEP_FEATURES/test22.npy shape (527, 1, 768)\n",
            "(10900, 1, 768)\n"
          ]
        }
      ]
    },
    {
      "cell_type": "code",
      "source": [
        "# data = np.load('./features/test1.npy')"
      ],
      "metadata": {
        "id": "xmm-dSx5Bi8R"
      },
      "execution_count": null,
      "outputs": []
    },
    {
      "cell_type": "code",
      "source": [
        "data = data.reshape(data.shape[0],-1)\n",
        "print(data.shape)"
      ],
      "metadata": {
        "id": "h8uwPj8E9BbR",
        "colab": {
          "base_uri": "https://localhost:8080/"
        },
        "outputId": "0edb8ad6-b350-4f82-eaa1-ac4975d30578"
      },
      "execution_count": null,
      "outputs": [
        {
          "output_type": "stream",
          "name": "stdout",
          "text": [
            "(10900, 768)\n"
          ]
        }
      ]
    },
    {
      "cell_type": "markdown",
      "source": [
        "## softlabeling"
      ],
      "metadata": {
        "id": "CdQIdWDnrRwC"
      }
    },
    {
      "cell_type": "code",
      "source": [
        "if_model = IsolationForest(n_estimators=100,max_samples='auto',contamination=float(0.2),random_state=42)\n",
        "if_model.fit(data)"
      ],
      "metadata": {
        "colab": {
          "base_uri": "https://localhost:8080/",
          "height": 74
        },
        "id": "aocnUDdm9CtB",
        "outputId": "ba0ed1fc-6311-49d9-e65d-b961f7f0bd8c"
      },
      "execution_count": null,
      "outputs": [
        {
          "output_type": "execute_result",
          "data": {
            "text/plain": [
              "IsolationForest(contamination=0.2, random_state=42)"
            ],
            "text/html": [
              "<style>#sk-container-id-2 {color: black;background-color: white;}#sk-container-id-2 pre{padding: 0;}#sk-container-id-2 div.sk-toggleable {background-color: white;}#sk-container-id-2 label.sk-toggleable__label {cursor: pointer;display: block;width: 100%;margin-bottom: 0;padding: 0.3em;box-sizing: border-box;text-align: center;}#sk-container-id-2 label.sk-toggleable__label-arrow:before {content: \"▸\";float: left;margin-right: 0.25em;color: #696969;}#sk-container-id-2 label.sk-toggleable__label-arrow:hover:before {color: black;}#sk-container-id-2 div.sk-estimator:hover label.sk-toggleable__label-arrow:before {color: black;}#sk-container-id-2 div.sk-toggleable__content {max-height: 0;max-width: 0;overflow: hidden;text-align: left;background-color: #f0f8ff;}#sk-container-id-2 div.sk-toggleable__content pre {margin: 0.2em;color: black;border-radius: 0.25em;background-color: #f0f8ff;}#sk-container-id-2 input.sk-toggleable__control:checked~div.sk-toggleable__content {max-height: 200px;max-width: 100%;overflow: auto;}#sk-container-id-2 input.sk-toggleable__control:checked~label.sk-toggleable__label-arrow:before {content: \"▾\";}#sk-container-id-2 div.sk-estimator input.sk-toggleable__control:checked~label.sk-toggleable__label {background-color: #d4ebff;}#sk-container-id-2 div.sk-label input.sk-toggleable__control:checked~label.sk-toggleable__label {background-color: #d4ebff;}#sk-container-id-2 input.sk-hidden--visually {border: 0;clip: rect(1px 1px 1px 1px);clip: rect(1px, 1px, 1px, 1px);height: 1px;margin: -1px;overflow: hidden;padding: 0;position: absolute;width: 1px;}#sk-container-id-2 div.sk-estimator {font-family: monospace;background-color: #f0f8ff;border: 1px dotted black;border-radius: 0.25em;box-sizing: border-box;margin-bottom: 0.5em;}#sk-container-id-2 div.sk-estimator:hover {background-color: #d4ebff;}#sk-container-id-2 div.sk-parallel-item::after {content: \"\";width: 100%;border-bottom: 1px solid gray;flex-grow: 1;}#sk-container-id-2 div.sk-label:hover label.sk-toggleable__label {background-color: #d4ebff;}#sk-container-id-2 div.sk-serial::before {content: \"\";position: absolute;border-left: 1px solid gray;box-sizing: border-box;top: 0;bottom: 0;left: 50%;z-index: 0;}#sk-container-id-2 div.sk-serial {display: flex;flex-direction: column;align-items: center;background-color: white;padding-right: 0.2em;padding-left: 0.2em;position: relative;}#sk-container-id-2 div.sk-item {position: relative;z-index: 1;}#sk-container-id-2 div.sk-parallel {display: flex;align-items: stretch;justify-content: center;background-color: white;position: relative;}#sk-container-id-2 div.sk-item::before, #sk-container-id-2 div.sk-parallel-item::before {content: \"\";position: absolute;border-left: 1px solid gray;box-sizing: border-box;top: 0;bottom: 0;left: 50%;z-index: -1;}#sk-container-id-2 div.sk-parallel-item {display: flex;flex-direction: column;z-index: 1;position: relative;background-color: white;}#sk-container-id-2 div.sk-parallel-item:first-child::after {align-self: flex-end;width: 50%;}#sk-container-id-2 div.sk-parallel-item:last-child::after {align-self: flex-start;width: 50%;}#sk-container-id-2 div.sk-parallel-item:only-child::after {width: 0;}#sk-container-id-2 div.sk-dashed-wrapped {border: 1px dashed gray;margin: 0 0.4em 0.5em 0.4em;box-sizing: border-box;padding-bottom: 0.4em;background-color: white;}#sk-container-id-2 div.sk-label label {font-family: monospace;font-weight: bold;display: inline-block;line-height: 1.2em;}#sk-container-id-2 div.sk-label-container {text-align: center;}#sk-container-id-2 div.sk-container {/* jupyter's `normalize.less` sets `[hidden] { display: none; }` but bootstrap.min.css set `[hidden] { display: none !important; }` so we also need the `!important` here to be able to override the default hidden behavior on the sphinx rendered scikit-learn.org. See: https://github.com/scikit-learn/scikit-learn/issues/21755 */display: inline-block !important;position: relative;}#sk-container-id-2 div.sk-text-repr-fallback {display: none;}</style><div id=\"sk-container-id-2\" class=\"sk-top-container\"><div class=\"sk-text-repr-fallback\"><pre>IsolationForest(contamination=0.2, random_state=42)</pre><b>In a Jupyter environment, please rerun this cell to show the HTML representation or trust the notebook. <br />On GitHub, the HTML representation is unable to render, please try loading this page with nbviewer.org.</b></div><div class=\"sk-container\" hidden><div class=\"sk-item\"><div class=\"sk-estimator sk-toggleable\"><input class=\"sk-toggleable__control sk-hidden--visually\" id=\"sk-estimator-id-2\" type=\"checkbox\" checked><label for=\"sk-estimator-id-2\" class=\"sk-toggleable__label sk-toggleable__label-arrow\">IsolationForest</label><div class=\"sk-toggleable__content\"><pre>IsolationForest(contamination=0.2, random_state=42)</pre></div></div></div></div></div>"
            ]
          },
          "metadata": {},
          "execution_count": 47
        }
      ]
    },
    {
      "cell_type": "code",
      "source": [
        "test_data = np.load('./features/test7.npy')\n",
        "test_data = test_data.reshape(test_data.shape[0],-1)"
      ],
      "metadata": {
        "id": "_S74AEWX-QJH"
      },
      "execution_count": null,
      "outputs": []
    },
    {
      "cell_type": "code",
      "source": [
        "labels = if_model.predict(test_data)"
      ],
      "metadata": {
        "id": "NQkakS2J-K1T"
      },
      "execution_count": null,
      "outputs": []
    },
    {
      "cell_type": "code",
      "source": [
        "#   -1 = anomaly\n",
        "#    1 = normal\n",
        "np.unique(labels, return_counts=True)"
      ],
      "metadata": {
        "colab": {
          "base_uri": "https://localhost:8080/"
        },
        "id": "o6kjS6lq-Nvj",
        "outputId": "79dcb396-cea3-42e6-f45e-a6814237f20d"
      },
      "execution_count": null,
      "outputs": [
        {
          "output_type": "execute_result",
          "data": {
            "text/plain": [
              "(array([-1]), array([576]))"
            ]
          },
          "metadata": {},
          "execution_count": 50
        }
      ]
    },
    {
      "cell_type": "code",
      "source": [
        "np.where(labels==-1)"
      ],
      "metadata": {
        "colab": {
          "base_uri": "https://localhost:8080/"
        },
        "id": "bYmv8DWi-kgj",
        "outputId": "259cae06-6d3b-42b0-9c22-03f4fdabc6bc"
      },
      "execution_count": null,
      "outputs": [
        {
          "output_type": "execute_result",
          "data": {
            "text/plain": [
              "(array([  0,   1,   2,   3,   4,   5,   6,   7,   8,   9,  10,  11,  12,\n",
              "         13,  14,  15,  16,  17,  18,  19,  20,  21,  22,  23,  24,  25,\n",
              "         26,  27,  28,  29,  30,  31,  32,  33,  34,  35,  36,  37,  38,\n",
              "         39,  40,  41,  42,  43,  44,  45,  46,  47,  48,  49,  50,  51,\n",
              "         52,  53,  54,  55,  56,  57,  58,  59,  60,  61,  62,  63,  64,\n",
              "         65,  66,  67,  68,  69,  70,  71,  72,  73,  74,  75,  76,  77,\n",
              "         78,  79,  80,  81,  82,  83,  84,  85,  86,  87,  88,  89,  90,\n",
              "         91,  92,  93,  94,  95,  96,  97,  98,  99, 100, 101, 102, 103,\n",
              "        104, 105, 106, 107, 108, 109, 110, 111, 112, 113, 114, 115, 116,\n",
              "        117, 118, 119, 120, 121, 122, 123, 124, 125, 126, 127, 128, 129,\n",
              "        130, 131, 132, 133, 134, 135, 136, 137, 138, 139, 140, 141, 142,\n",
              "        143, 144, 145, 146, 147, 148, 149, 150, 151, 152, 153, 154, 155,\n",
              "        156, 157, 158, 159, 160, 161, 162, 163, 164, 165, 166, 167, 168,\n",
              "        169, 170, 171, 172, 173, 174, 175, 176, 177, 178, 179, 180, 181,\n",
              "        182, 183, 184, 185, 186, 187, 188, 189, 190, 191, 192, 193, 194,\n",
              "        195, 196, 197, 198, 199, 200, 201, 202, 203, 204, 205, 206, 207,\n",
              "        208, 209, 210, 211, 212, 213, 214, 215, 216, 217, 218, 219, 220,\n",
              "        221, 222, 223, 224, 225, 226, 227, 228, 229, 230, 231, 232, 233,\n",
              "        234, 235, 236, 237, 238, 239, 240, 241, 242, 243, 244, 245, 246,\n",
              "        247, 248, 249, 250, 251, 252, 253, 254, 255, 256, 257, 258, 259,\n",
              "        260, 261, 262, 263, 264, 265, 266, 267, 268, 269, 270, 271, 272,\n",
              "        273, 274, 275, 276, 277, 278, 279, 280, 281, 282, 283, 284, 285,\n",
              "        286, 287, 288, 289, 290, 291, 292, 293, 294, 295, 296, 297, 298,\n",
              "        299, 300, 301, 302, 303, 304, 305, 306, 307, 308, 309, 310, 311,\n",
              "        312, 313, 314, 315, 316, 317, 318, 319, 320, 321, 322, 323, 324,\n",
              "        325, 326, 327, 328, 329, 330, 331, 332, 333, 334, 335, 336, 337,\n",
              "        338, 339, 340, 341, 342, 343, 344, 345, 346, 347, 348, 349, 350,\n",
              "        351, 352, 353, 354, 355, 356, 357, 358, 359, 360, 361, 362, 363,\n",
              "        364, 365, 366, 367, 368, 369, 370, 371, 372, 373, 374, 375, 376,\n",
              "        377, 378, 379, 380, 381, 382, 383, 384, 385, 386, 387, 388, 389,\n",
              "        390, 391, 392, 393, 394, 395, 396, 397, 398, 399, 400, 401, 402,\n",
              "        403, 404, 405, 406, 407, 408, 409, 410, 411, 412, 413, 414, 415,\n",
              "        416, 417, 418, 419, 420, 421, 422, 423, 424, 425, 426, 427, 428,\n",
              "        429, 430, 431, 432, 433, 434, 435, 436, 437, 438, 439, 440, 441,\n",
              "        442, 443, 444, 445, 446, 447, 448, 449, 450, 451, 452, 453, 454,\n",
              "        455, 456, 457, 458, 459, 460, 461, 462, 463, 464, 465, 466, 467,\n",
              "        468, 469, 470, 471, 472, 473, 474, 475, 476, 477, 478, 479, 480,\n",
              "        481, 482, 483, 484, 485, 486, 487, 488, 489, 490, 491, 492, 493,\n",
              "        494, 495, 496, 497, 498, 499, 500, 501, 502, 503, 504, 505, 506,\n",
              "        507, 508, 509, 510, 511, 512, 513, 514, 515, 516, 517, 518, 519,\n",
              "        520, 521, 522, 523, 524, 525, 526, 527, 528, 529, 530, 531, 532,\n",
              "        533, 534, 535, 536, 537, 538, 539, 540, 541, 542, 543, 544, 545,\n",
              "        546, 547, 548, 549, 550, 551, 552, 553, 554, 555, 556, 557, 558,\n",
              "        559, 560, 561, 562, 563, 564, 565, 566, 567, 568, 569, 570, 571,\n",
              "        572, 573, 574, 575]),)"
            ]
          },
          "metadata": {},
          "execution_count": 51
        }
      ]
    },
    {
      "cell_type": "markdown",
      "source": [
        "## AutoEncoder"
      ],
      "metadata": {
        "id": "oAyPtRB6HGR8"
      }
    },
    {
      "cell_type": "code",
      "source": [
        "cosine_similarity(data[108].reshape(1,-1), data[0].reshape(1,-1))"
      ],
      "metadata": {
        "colab": {
          "base_uri": "https://localhost:8080/"
        },
        "id": "v7N3URh1RkCd",
        "outputId": "4a5481be-3ffe-4f1c-b7f1-6426215b5969"
      },
      "execution_count": null,
      "outputs": [
        {
          "output_type": "execute_result",
          "data": {
            "text/plain": [
              "array([[0.96244276]], dtype=float32)"
            ]
          },
          "metadata": {},
          "execution_count": 52
        }
      ]
    },
    {
      "cell_type": "code",
      "source": [
        "def cosine_similarity_scores(data):\n",
        "    cosine_similarity_all = []\n",
        "    for i in range(data.shape[0]):\n",
        "        cosine_similarity_all.append(cosine_similarity(data[108].reshape(1,-1), data[i].reshape(1,-1))[0][0])\n",
        "    return np.array(cosine_similarity_all)\n",
        "\n",
        "scores = cosine_similarity_scores(data)"
      ],
      "metadata": {
        "id": "9rft805d-oih"
      },
      "execution_count": null,
      "outputs": []
    },
    {
      "cell_type": "code",
      "source": [
        "sns.kdeplot(scores)"
      ],
      "metadata": {
        "colab": {
          "base_uri": "https://localhost:8080/",
          "height": 448
        },
        "id": "FxCePpKWHKN1",
        "outputId": "9a823459-433f-42a2-fbf4-59b295d403cd"
      },
      "execution_count": null,
      "outputs": [
        {
          "output_type": "execute_result",
          "data": {
            "text/plain": [
              "<Axes: ylabel='Density'>"
            ]
          },
          "metadata": {},
          "execution_count": 54
        },
        {
          "output_type": "display_data",
          "data": {
            "text/plain": [
              "<Figure size 640x480 with 1 Axes>"
            ],
            "image/png": "[encoded data removed]"
          },
          "metadata": {}
        }
      ]
    },
    {
      "cell_type": "code",
      "source": [
        "# 1=normal, 0=anomaly\n",
        "labels = np.where(scores>=0.65, 1, 0)"
      ],
      "metadata": {
        "id": "g3RR5am2HUU2"
      },
      "execution_count": null,
      "outputs": []
    },
    {
      "cell_type": "code",
      "source": [
        "data = data.reshape(data.shape[0],-1)"
      ],
      "metadata": {
        "id": "2WtS7z9HHiC3"
      },
      "execution_count": null,
      "outputs": []
    },
    {
      "cell_type": "code",
      "source": [
        "x_train, x_test, y_train, y_test = train_test_split(data, labels, test_size=0.2, random_state=42, stratify=labels)"
      ],
      "metadata": {
        "id": "HwPJoUDrHlEn"
      },
      "execution_count": null,
      "outputs": []
    },
    {
      "cell_type": "code",
      "source": [
        "train_index = np.where(y_train == 1)\n",
        "train_data = x_train[train_index]"
      ],
      "metadata": {
        "id": "pbPm4wH-HnIY"
      },
      "execution_count": null,
      "outputs": []
    },
    {
      "cell_type": "code",
      "source": [
        "# create a model by subclassing Model class in tensorflow\n",
        "class AutoEncoder(Model):\n",
        "    \"\"\"\n",
        "    Parameters\n",
        "    ----------\n",
        "    output_units: int\n",
        "    Number of output units\n",
        "\n",
        "    code_size: int\n",
        "    Number of units in bottle neck\n",
        "    \"\"\"\n",
        "\n",
        "    def __init__(self, output_units, code_size=8):\n",
        "        super().__init__()\n",
        "        self.encoder = Sequential([\n",
        "            Dense(64, activation='relu'),\n",
        "            Dropout(0.1),\n",
        "            Dense(32, activation='relu'),\n",
        "            Dropout(0.1),\n",
        "            Dense(16, activation='relu'),\n",
        "            Dropout(0.1),\n",
        "            Dense(code_size, activation='relu')\n",
        "        ])\n",
        "        self.decoder = Sequential([\n",
        "            Dense(16, activation='relu'),\n",
        "            Dropout(0.1),\n",
        "            Dense(32, activation='relu'),\n",
        "            Dropout(0.1),\n",
        "            Dense(64, activation='relu'),\n",
        "            Dropout(0.1),\n",
        "            Dense(output_units, activation='sigmoid')\n",
        "            # Dense(output_units, activation='softmax')\n",
        "        ])\n",
        "\n",
        "    def call(self, inputs):\n",
        "        encoded = self.encoder(inputs)\n",
        "        decoded = self.decoder(encoded)\n",
        "        return decoded"
      ],
      "metadata": {
        "id": "Zh-k3zM7Htqo"
      },
      "execution_count": null,
      "outputs": []
    },
    {
      "cell_type": "code",
      "source": [
        "x_train.shape"
      ],
      "metadata": {
        "colab": {
          "base_uri": "https://localhost:8080/"
        },
        "id": "Y9A8afVsUft6",
        "outputId": "7c9ff52f-7aef-4d6b-9487-1adfa52b5ee4"
      },
      "execution_count": null,
      "outputs": [
        {
          "output_type": "execute_result",
          "data": {
            "text/plain": [
              "(8720, 768)"
            ]
          },
          "metadata": {},
          "execution_count": 78
        }
      ]
    },
    {
      "cell_type": "code",
      "source": [
        "model = AutoEncoder(output_units=x_train.shape[1])\n",
        "# configurations of model\n",
        "early_stopping = tf.keras.callbacks.EarlyStopping(monitor=\"val_loss\", patience=2, mode=\"min\")\n",
        "# model.compile(loss='msle', metrics=['accuracy'], optimizer='adam')\n",
        "model.compile(loss='msle', metrics=['mse'], optimizer='adam')\n",
        "\n",
        "history = model.fit(\n",
        "    x_train,\n",
        "    x_train,\n",
        "    epochs=100,\n",
        "    batch_size=512,\n",
        "    validation_data=(x_test, x_test),\n",
        "    callbacks=[early_stopping]\n",
        ")"
      ],
      "metadata": {
        "colab": {
          "base_uri": "https://localhost:8080/"
        },
        "id": "57HMcIxmHvoG",
        "outputId": "6f9a0538-dc80-4b52-b0dd-45134a4797cb"
      },
      "execution_count": null,
      "outputs": [
        {
          "output_type": "stream",
          "name": "stdout",
          "text": [
            "Epoch 1/100\n",
            "18/18 [==============================] - 2s 33ms/step - loss: 0.1099 - mse: 0.8470 - val_loss: 0.0724 - val_mse: 0.6568\n",
            "Epoch 2/100\n",
            "18/18 [==============================] - 0s 25ms/step - loss: 0.0706 - mse: 0.6424 - val_loss: 0.0629 - val_mse: 0.6194\n",
            "Epoch 3/100\n",
            "18/18 [==============================] - 0s 23ms/step - loss: 0.0654 - mse: 0.6208 - val_loss: 0.0620 - val_mse: 0.6144\n",
            "Epoch 4/100\n",
            "18/18 [==============================] - 0s 22ms/step - loss: 0.0639 - mse: 0.6145 - val_loss: 0.0619 - val_mse: 0.6168\n",
            "Epoch 5/100\n",
            "18/18 [==============================] - 0s 23ms/step - loss: 0.0630 - mse: 0.6103 - val_loss: 0.0603 - val_mse: 0.6068\n",
            "Epoch 6/100\n",
            "18/18 [==============================] - 0s 22ms/step - loss: 0.0612 - mse: 0.6024 - val_loss: 0.0575 - val_mse: 0.5944\n",
            "Epoch 7/100\n",
            "18/18 [==============================] - 0s 22ms/step - loss: 0.0591 - mse: 0.5936 - val_loss: 0.0562 - val_mse: 0.5874\n",
            "Epoch 8/100\n",
            "18/18 [==============================] - 0s 22ms/step - loss: 0.0579 - mse: 0.5889 - val_loss: 0.0550 - val_mse: 0.5827\n",
            "Epoch 9/100\n",
            "18/18 [==============================] - 0s 23ms/step - loss: 0.0567 - mse: 0.5838 - val_loss: 0.0535 - val_mse: 0.5753\n",
            "Epoch 10/100\n",
            "18/18 [==============================] - 0s 25ms/step - loss: 0.0556 - mse: 0.5792 - val_loss: 0.0525 - val_mse: 0.5709\n",
            "Epoch 11/100\n",
            "18/18 [==============================] - 0s 22ms/step - loss: 0.0549 - mse: 0.5767 - val_loss: 0.0520 - val_mse: 0.5710\n",
            "Epoch 12/100\n",
            "18/18 [==============================] - 0s 23ms/step - loss: 0.0543 - mse: 0.5744 - val_loss: 0.0515 - val_mse: 0.5687\n",
            "Epoch 13/100\n",
            "18/18 [==============================] - 0s 22ms/step - loss: 0.0538 - mse: 0.5727 - val_loss: 0.0509 - val_mse: 0.5656\n",
            "Epoch 14/100\n",
            "18/18 [==============================] - 0s 23ms/step - loss: 0.0533 - mse: 0.5708 - val_loss: 0.0505 - val_mse: 0.5645\n",
            "Epoch 15/100\n",
            "18/18 [==============================] - 1s 32ms/step - loss: 0.0527 - mse: 0.5686 - val_loss: 0.0499 - val_mse: 0.5610\n",
            "Epoch 16/100\n",
            "18/18 [==============================] - 1s 38ms/step - loss: 0.0523 - mse: 0.5673 - val_loss: 0.0496 - val_mse: 0.5618\n",
            "Epoch 17/100\n",
            "18/18 [==============================] - 1s 35ms/step - loss: 0.0519 - mse: 0.5657 - val_loss: 0.0490 - val_mse: 0.5577\n",
            "Epoch 18/100\n",
            "18/18 [==============================] - 1s 35ms/step - loss: 0.0515 - mse: 0.5642 - val_loss: 0.0486 - val_mse: 0.5568\n",
            "Epoch 19/100\n",
            "18/18 [==============================] - 1s 34ms/step - loss: 0.0511 - mse: 0.5627 - val_loss: 0.0482 - val_mse: 0.5561\n",
            "Epoch 20/100\n",
            "18/18 [==============================] - 1s 40ms/step - loss: 0.0507 - mse: 0.5618 - val_loss: 0.0477 - val_mse: 0.5538\n",
            "Epoch 21/100\n",
            "18/18 [==============================] - 1s 35ms/step - loss: 0.0503 - mse: 0.5601 - val_loss: 0.0471 - val_mse: 0.5507\n",
            "Epoch 22/100\n",
            "18/18 [==============================] - 1s 34ms/step - loss: 0.0499 - mse: 0.5586 - val_loss: 0.0466 - val_mse: 0.5494\n",
            "Epoch 23/100\n",
            "18/18 [==============================] - 1s 36ms/step - loss: 0.0495 - mse: 0.5572 - val_loss: 0.0462 - val_mse: 0.5479\n",
            "Epoch 24/100\n",
            "18/18 [==============================] - 1s 38ms/step - loss: 0.0492 - mse: 0.5557 - val_loss: 0.0458 - val_mse: 0.5463\n",
            "Epoch 25/100\n",
            "18/18 [==============================] - 1s 39ms/step - loss: 0.0488 - mse: 0.5545 - val_loss: 0.0454 - val_mse: 0.5450\n",
            "Epoch 26/100\n",
            "18/18 [==============================] - 1s 33ms/step - loss: 0.0486 - mse: 0.5535 - val_loss: 0.0452 - val_mse: 0.5441\n",
            "Epoch 27/100\n",
            "18/18 [==============================] - 0s 22ms/step - loss: 0.0483 - mse: 0.5525 - val_loss: 0.0448 - val_mse: 0.5430\n",
            "Epoch 28/100\n",
            "18/18 [==============================] - 0s 23ms/step - loss: 0.0480 - mse: 0.5512 - val_loss: 0.0445 - val_mse: 0.5407\n",
            "Epoch 29/100\n",
            "18/18 [==============================] - 0s 23ms/step - loss: 0.0477 - mse: 0.5502 - val_loss: 0.0442 - val_mse: 0.5395\n",
            "Epoch 30/100\n",
            "18/18 [==============================] - 0s 22ms/step - loss: 0.0475 - mse: 0.5491 - val_loss: 0.0440 - val_mse: 0.5396\n",
            "Epoch 31/100\n",
            "18/18 [==============================] - 0s 23ms/step - loss: 0.0473 - mse: 0.5485 - val_loss: 0.0438 - val_mse: 0.5385\n",
            "Epoch 32/100\n",
            "18/18 [==============================] - 0s 23ms/step - loss: 0.0471 - mse: 0.5480 - val_loss: 0.0436 - val_mse: 0.5376\n",
            "Epoch 33/100\n",
            "18/18 [==============================] - 0s 25ms/step - loss: 0.0469 - mse: 0.5473 - val_loss: 0.0435 - val_mse: 0.5372\n",
            "Epoch 34/100\n",
            "18/18 [==============================] - 0s 24ms/step - loss: 0.0466 - mse: 0.5461 - val_loss: 0.0432 - val_mse: 0.5368\n",
            "Epoch 35/100\n",
            "18/18 [==============================] - 0s 24ms/step - loss: 0.0465 - mse: 0.5462 - val_loss: 0.0430 - val_mse: 0.5356\n",
            "Epoch 36/100\n",
            "18/18 [==============================] - 0s 24ms/step - loss: 0.0463 - mse: 0.5452 - val_loss: 0.0428 - val_mse: 0.5350\n",
            "Epoch 37/100\n",
            "18/18 [==============================] - 0s 24ms/step - loss: 0.0461 - mse: 0.5447 - val_loss: 0.0427 - val_mse: 0.5343\n",
            "Epoch 38/100\n",
            "18/18 [==============================] - 0s 25ms/step - loss: 0.0459 - mse: 0.5439 - val_loss: 0.0425 - val_mse: 0.5336\n",
            "Epoch 39/100\n",
            "18/18 [==============================] - 0s 23ms/step - loss: 0.0459 - mse: 0.5438 - val_loss: 0.0423 - val_mse: 0.5329\n",
            "Epoch 40/100\n",
            "18/18 [==============================] - 0s 23ms/step - loss: 0.0458 - mse: 0.5436 - val_loss: 0.0423 - val_mse: 0.5339\n",
            "Epoch 41/100\n",
            "18/18 [==============================] - 0s 24ms/step - loss: 0.0455 - mse: 0.5425 - val_loss: 0.0421 - val_mse: 0.5330\n",
            "Epoch 42/100\n",
            "18/18 [==============================] - 0s 24ms/step - loss: 0.0454 - mse: 0.5418 - val_loss: 0.0419 - val_mse: 0.5322\n",
            "Epoch 43/100\n",
            "18/18 [==============================] - 0s 24ms/step - loss: 0.0453 - mse: 0.5422 - val_loss: 0.0417 - val_mse: 0.5309\n",
            "Epoch 44/100\n",
            "18/18 [==============================] - 0s 24ms/step - loss: 0.0451 - mse: 0.5412 - val_loss: 0.0416 - val_mse: 0.5302\n",
            "Epoch 45/100\n",
            "18/18 [==============================] - 0s 24ms/step - loss: 0.0450 - mse: 0.5405 - val_loss: 0.0415 - val_mse: 0.5301\n",
            "Epoch 46/100\n",
            "18/18 [==============================] - 0s 24ms/step - loss: 0.0448 - mse: 0.5399 - val_loss: 0.0414 - val_mse: 0.5301\n",
            "Epoch 47/100\n",
            "18/18 [==============================] - 0s 23ms/step - loss: 0.0446 - mse: 0.5397 - val_loss: 0.0412 - val_mse: 0.5292\n",
            "Epoch 48/100\n",
            "18/18 [==============================] - 0s 23ms/step - loss: 0.0446 - mse: 0.5393 - val_loss: 0.0412 - val_mse: 0.5294\n",
            "Epoch 49/100\n",
            "18/18 [==============================] - 0s 22ms/step - loss: 0.0444 - mse: 0.5392 - val_loss: 0.0410 - val_mse: 0.5286\n",
            "Epoch 50/100\n",
            "18/18 [==============================] - 1s 31ms/step - loss: 0.0443 - mse: 0.5384 - val_loss: 0.0409 - val_mse: 0.5283\n",
            "Epoch 51/100\n",
            "18/18 [==============================] - 1s 35ms/step - loss: 0.0442 - mse: 0.5384 - val_loss: 0.0409 - val_mse: 0.5287\n",
            "Epoch 52/100\n",
            "18/18 [==============================] - 1s 34ms/step - loss: 0.0441 - mse: 0.5379 - val_loss: 0.0407 - val_mse: 0.5276\n",
            "Epoch 53/100\n",
            "18/18 [==============================] - 1s 33ms/step - loss: 0.0440 - mse: 0.5376 - val_loss: 0.0406 - val_mse: 0.5265\n",
            "Epoch 54/100\n",
            "18/18 [==============================] - 1s 35ms/step - loss: 0.0440 - mse: 0.5372 - val_loss: 0.0405 - val_mse: 0.5271\n",
            "Epoch 55/100\n",
            "18/18 [==============================] - 1s 34ms/step - loss: 0.0438 - mse: 0.5369 - val_loss: 0.0405 - val_mse: 0.5274\n",
            "Epoch 56/100\n",
            "18/18 [==============================] - 1s 35ms/step - loss: 0.0437 - mse: 0.5367 - val_loss: 0.0404 - val_mse: 0.5269\n",
            "Epoch 57/100\n",
            "18/18 [==============================] - 1s 35ms/step - loss: 0.0437 - mse: 0.5365 - val_loss: 0.0402 - val_mse: 0.5263\n",
            "Epoch 58/100\n",
            "18/18 [==============================] - 1s 35ms/step - loss: 0.0435 - mse: 0.5360 - val_loss: 0.0402 - val_mse: 0.5258\n",
            "Epoch 59/100\n",
            "18/18 [==============================] - 1s 34ms/step - loss: 0.0436 - mse: 0.5361 - val_loss: 0.0401 - val_mse: 0.5258\n",
            "Epoch 60/100\n",
            "18/18 [==============================] - 1s 34ms/step - loss: 0.0434 - mse: 0.5350 - val_loss: 0.0400 - val_mse: 0.5252\n",
            "Epoch 61/100\n",
            "18/18 [==============================] - 1s 34ms/step - loss: 0.0433 - mse: 0.5348 - val_loss: 0.0399 - val_mse: 0.5250\n",
            "Epoch 62/100\n",
            "18/18 [==============================] - 1s 34ms/step - loss: 0.0433 - mse: 0.5351 - val_loss: 0.0398 - val_mse: 0.5243\n",
            "Epoch 63/100\n",
            "18/18 [==============================] - 0s 22ms/step - loss: 0.0432 - mse: 0.5348 - val_loss: 0.0397 - val_mse: 0.5247\n",
            "Epoch 64/100\n",
            "18/18 [==============================] - 0s 23ms/step - loss: 0.0431 - mse: 0.5345 - val_loss: 0.0397 - val_mse: 0.5241\n",
            "Epoch 65/100\n",
            "18/18 [==============================] - 0s 24ms/step - loss: 0.0430 - mse: 0.5342 - val_loss: 0.0395 - val_mse: 0.5234\n",
            "Epoch 66/100\n",
            "18/18 [==============================] - 0s 22ms/step - loss: 0.0429 - mse: 0.5336 - val_loss: 0.0394 - val_mse: 0.5231\n",
            "Epoch 67/100\n",
            "18/18 [==============================] - 0s 24ms/step - loss: 0.0428 - mse: 0.5331 - val_loss: 0.0395 - val_mse: 0.5237\n",
            "Epoch 68/100\n",
            "18/18 [==============================] - 0s 22ms/step - loss: 0.0428 - mse: 0.5333 - val_loss: 0.0393 - val_mse: 0.5228\n",
            "Epoch 69/100\n",
            "18/18 [==============================] - 0s 24ms/step - loss: 0.0428 - mse: 0.5333 - val_loss: 0.0393 - val_mse: 0.5223\n",
            "Epoch 70/100\n",
            "18/18 [==============================] - 0s 23ms/step - loss: 0.0427 - mse: 0.5327 - val_loss: 0.0392 - val_mse: 0.5229\n",
            "Epoch 71/100\n",
            "18/18 [==============================] - 0s 23ms/step - loss: 0.0426 - mse: 0.5328 - val_loss: 0.0391 - val_mse: 0.5219\n",
            "Epoch 72/100\n",
            "18/18 [==============================] - 0s 22ms/step - loss: 0.0426 - mse: 0.5325 - val_loss: 0.0390 - val_mse: 0.5217\n",
            "Epoch 73/100\n",
            "18/18 [==============================] - 0s 23ms/step - loss: 0.0424 - mse: 0.5318 - val_loss: 0.0389 - val_mse: 0.5215\n",
            "Epoch 74/100\n",
            "18/18 [==============================] - 1s 28ms/step - loss: 0.0424 - mse: 0.5316 - val_loss: 0.0388 - val_mse: 0.5212\n",
            "Epoch 75/100\n",
            "18/18 [==============================] - 1s 30ms/step - loss: 0.0423 - mse: 0.5316 - val_loss: 0.0387 - val_mse: 0.5210\n",
            "Epoch 76/100\n",
            "18/18 [==============================] - 1s 46ms/step - loss: 0.0422 - mse: 0.5315 - val_loss: 0.0387 - val_mse: 0.5206\n",
            "Epoch 77/100\n",
            "18/18 [==============================] - 1s 43ms/step - loss: 0.0422 - mse: 0.5312 - val_loss: 0.0386 - val_mse: 0.5207\n",
            "Epoch 78/100\n",
            "18/18 [==============================] - 1s 47ms/step - loss: 0.0420 - mse: 0.5305 - val_loss: 0.0385 - val_mse: 0.5205\n",
            "Epoch 79/100\n",
            "18/18 [==============================] - 1s 45ms/step - loss: 0.0420 - mse: 0.5305 - val_loss: 0.0384 - val_mse: 0.5196\n",
            "Epoch 80/100\n",
            "18/18 [==============================] - 1s 42ms/step - loss: 0.0419 - mse: 0.5303 - val_loss: 0.0383 - val_mse: 0.5197\n",
            "Epoch 81/100\n",
            "18/18 [==============================] - 1s 63ms/step - loss: 0.0419 - mse: 0.5303 - val_loss: 0.0382 - val_mse: 0.5190\n",
            "Epoch 82/100\n",
            "18/18 [==============================] - 1s 80ms/step - loss: 0.0417 - mse: 0.5296 - val_loss: 0.0382 - val_mse: 0.5196\n",
            "Epoch 83/100\n",
            "18/18 [==============================] - 2s 92ms/step - loss: 0.0417 - mse: 0.5297 - val_loss: 0.0381 - val_mse: 0.5190\n",
            "Epoch 84/100\n",
            "18/18 [==============================] - 1s 58ms/step - loss: 0.0417 - mse: 0.5295 - val_loss: 0.0381 - val_mse: 0.5186\n",
            "Epoch 85/100\n",
            "18/18 [==============================] - 1s 54ms/step - loss: 0.0417 - mse: 0.5296 - val_loss: 0.0380 - val_mse: 0.5186\n",
            "Epoch 86/100\n",
            "18/18 [==============================] - 1s 48ms/step - loss: 0.0415 - mse: 0.5290 - val_loss: 0.0380 - val_mse: 0.5182\n",
            "Epoch 87/100\n",
            "18/18 [==============================] - 1s 79ms/step - loss: 0.0415 - mse: 0.5289 - val_loss: 0.0380 - val_mse: 0.5188\n",
            "Epoch 88/100\n",
            "18/18 [==============================] - 1s 52ms/step - loss: 0.0414 - mse: 0.5287 - val_loss: 0.0378 - val_mse: 0.5176\n",
            "Epoch 89/100\n",
            "18/18 [==============================] - 0s 24ms/step - loss: 0.0414 - mse: 0.5288 - val_loss: 0.0378 - val_mse: 0.5175\n",
            "Epoch 90/100\n",
            "18/18 [==============================] - 0s 22ms/step - loss: 0.0413 - mse: 0.5279 - val_loss: 0.0377 - val_mse: 0.5174\n",
            "Epoch 91/100\n",
            "18/18 [==============================] - 0s 24ms/step - loss: 0.0413 - mse: 0.5283 - val_loss: 0.0376 - val_mse: 0.5171\n",
            "Epoch 92/100\n",
            "18/18 [==============================] - 0s 23ms/step - loss: 0.0412 - mse: 0.5279 - val_loss: 0.0376 - val_mse: 0.5172\n",
            "Epoch 93/100\n",
            "18/18 [==============================] - 0s 24ms/step - loss: 0.0411 - mse: 0.5277 - val_loss: 0.0376 - val_mse: 0.5166\n",
            "Epoch 94/100\n",
            "18/18 [==============================] - 0s 22ms/step - loss: 0.0412 - mse: 0.5276 - val_loss: 0.0375 - val_mse: 0.5171\n",
            "Epoch 95/100\n",
            "18/18 [==============================] - 0s 23ms/step - loss: 0.0411 - mse: 0.5276 - val_loss: 0.0375 - val_mse: 0.5165\n",
            "Epoch 96/100\n",
            "18/18 [==============================] - 0s 23ms/step - loss: 0.0409 - mse: 0.5270 - val_loss: 0.0374 - val_mse: 0.5164\n",
            "Epoch 97/100\n",
            "18/18 [==============================] - 0s 23ms/step - loss: 0.0409 - mse: 0.5269 - val_loss: 0.0374 - val_mse: 0.5164\n",
            "Epoch 98/100\n",
            "18/18 [==============================] - 0s 23ms/step - loss: 0.0409 - mse: 0.5268 - val_loss: 0.0373 - val_mse: 0.5161\n",
            "Epoch 99/100\n",
            "18/18 [==============================] - 0s 23ms/step - loss: 0.0408 - mse: 0.5269 - val_loss: 0.0373 - val_mse: 0.5157\n",
            "Epoch 100/100\n",
            "18/18 [==============================] - 0s 26ms/step - loss: 0.0408 - mse: 0.5265 - val_loss: 0.0372 - val_mse: 0.5158\n"
          ]
        }
      ]
    },
    {
      "cell_type": "code",
      "source": [
        "# lists:training accuracy, validation accuracy, training loss, validation loss\n",
        "train_acc = history.history['mse']\n",
        "train_loss = history.history['loss']\n",
        "\n",
        "val_acc = history.history['val_mse']\n",
        "val_loss = history.history['val_loss']\n",
        "\n",
        "# Plot Epochs Vs. training and validation accuracy\n",
        "acc_df = pd.DataFrame(zip(train_acc,val_acc), columns = ['train_mse', 'val_mse'])\n",
        "acc_df.index = np.arange(1,len(acc_df)+1,1)\n",
        "acc_df[['train_mse', 'val_mse']].plot()\n",
        "plt.xlabel('Epochs')\n",
        "plt.ylabel('MSE')\n",
        "plt.show()\n",
        "\n",
        "\n",
        "\n",
        "# Plot Epochs Vs. training and validation loss\n",
        "los_df = pd.DataFrame(zip(train_loss,val_loss), columns = ['train_loss', 'val_loss'])\n",
        "los_df.index = np.arange(1,len(los_df)+1,1)\n",
        "los_df[['train_loss', 'val_loss']].plot()\n",
        "plt.xlabel('Epochs')\n",
        "plt.ylabel('Loss')\n",
        "plt.show()"
      ],
      "metadata": {
        "id": "L44-BsTjHzt1",
        "colab": {
          "base_uri": "https://localhost:8080/",
          "height": 881
        },
        "outputId": "7e136eea-1051-455b-a30e-3f6be29cc1b0"
      },
      "execution_count": null,
      "outputs": [
        {
          "output_type": "display_data",
          "data": {
            "text/plain": [
              "<Figure size 640x480 with 1 Axes>"
            ],
            "image/png": "[encoded data removed]"
          },
          "metadata": {}
        },
        {
          "output_type": "display_data",
          "data": {
            "text/plain": [
              "<Figure size 640x480 with 1 Axes>"
            ],
            "image/png": "[encoded data removed]"
          },
          "metadata": {}
        }
      ]
    },
    {
      "cell_type": "code",
      "source": [
        "x_test_pred = model.predict(x_test)"
      ],
      "metadata": {
        "colab": {
          "base_uri": "https://localhost:8080/"
        },
        "id": "u-4R4ajxYhNx",
        "outputId": "ef844b27-8970-4a6c-b1cb-deca32a8b9cc"
      },
      "execution_count": null,
      "outputs": [
        {
          "output_type": "stream",
          "name": "stdout",
          "text": [
            "69/69 [==============================] - 0s 2ms/step\n"
          ]
        }
      ]
    },
    {
      "cell_type": "code",
      "source": [
        "x_test_pred"
      ],
      "metadata": {
        "colab": {
          "base_uri": "https://localhost:8080/"
        },
        "id": "LHARJyh96fSA",
        "outputId": "a9e3f85a-2f1b-4b0d-f749-4ea7fca99a04"
      },
      "execution_count": null,
      "outputs": [
        {
          "output_type": "execute_result",
          "data": {
            "text/plain": [
              "array([[5.2974191e-02, 8.7494969e-01, 5.2828103e-01, ..., 9.4517547e-04,\n",
              "        9.9997282e-01, 1.1808245e-01],\n",
              "       [2.3247138e-02, 9.9995035e-01, 4.4231263e-01, ..., 3.0057394e-04,\n",
              "        9.9999988e-01, 2.8297785e-01],\n",
              "       [2.3048106e-03, 4.4256040e-01, 1.4577994e-01, ..., 1.3224588e-02,\n",
              "        9.9997514e-01, 3.2872371e-02],\n",
              "       ...,\n",
              "       [1.1148108e-02, 9.9787182e-01, 4.9119663e-01, ..., 3.4525838e-02,\n",
              "        9.9986857e-01, 2.2734803e-01],\n",
              "       [3.7996087e-02, 9.9800909e-01, 4.9482095e-01, ..., 1.8443248e-03,\n",
              "        9.9999118e-01, 3.7621358e-01],\n",
              "       [1.0426792e-02, 5.1271105e-01, 9.2514062e-01, ..., 1.8820381e-05,\n",
              "        1.0000000e+00, 5.1415268e-02]], dtype=float32)"
            ]
          },
          "metadata": {},
          "execution_count": 102
        }
      ]
    },
    {
      "cell_type": "code",
      "source": [
        "x_test_pred.shape"
      ],
      "metadata": {
        "colab": {
          "base_uri": "https://localhost:8080/"
        },
        "id": "evSHkqn0bkZG",
        "outputId": "009313ba-86be-4aff-8a36-8e8deaf6882d"
      },
      "execution_count": null,
      "outputs": [
        {
          "output_type": "execute_result",
          "data": {
            "text/plain": [
              "(2180, 768)"
            ]
          },
          "metadata": {},
          "execution_count": 82
        }
      ]
    },
    {
      "cell_type": "code",
      "source": [
        "def cosine_similarity_scores_test_data(x,y):\n",
        "    cosine_similarity_all = []\n",
        "    for i in range(x.shape[0]):\n",
        "        cosine_similarity_all.append(cosine_similarity(x[i].reshape(1,-1), y[i].reshape(1,-1))[0][0])\n",
        "    scores = np.array(cosine_similarity_all)\n",
        "    labels = np.where(scores>=0.65, 1, 0)\n",
        "    return labels,scores\n",
        "\n",
        "y_pred, y_pred_prob = cosine_similarity_scores_test_data(x_test, x_test_pred)"
      ],
      "metadata": {
        "id": "BL6wcJHcauqp"
      },
      "execution_count": null,
      "outputs": []
    },
    {
      "cell_type": "code",
      "source": [
        "y_pred_prob.shape, y_test.shape"
      ],
      "metadata": {
        "colab": {
          "base_uri": "https://localhost:8080/"
        },
        "id": "rUUoDGAn70yk",
        "outputId": "700b991e-adad-48e6-bab8-ed4ecd7ca0b7"
      },
      "execution_count": null,
      "outputs": [
        {
          "output_type": "execute_result",
          "data": {
            "text/plain": [
              "((2180,), (2180,))"
            ]
          },
          "metadata": {},
          "execution_count": 112
        }
      ]
    },
    {
      "cell_type": "code",
      "source": [
        "accuracy_score(y_test, y_pred)"
      ],
      "metadata": {
        "colab": {
          "base_uri": "https://localhost:8080/"
        },
        "id": "ZEybvGs_ZyFj",
        "outputId": "2e8cc61b-4628-4f84-d6d7-01195165fb7b"
      },
      "execution_count": null,
      "outputs": [
        {
          "output_type": "execute_result",
          "data": {
            "text/plain": [
              "0.8302752293577982"
            ]
          },
          "metadata": {},
          "execution_count": 84
        }
      ]
    },
    {
      "cell_type": "markdown",
      "source": [
        "## testing on randomdata"
      ],
      "metadata": {
        "id": "Rf8jJzPDhHLD"
      }
    },
    {
      "cell_type": "code",
      "source": [
        "test_data = np.load('./DATASET_OEP_FEATURES/test7.npy')\n",
        "test_data = test_data.reshape(test_data.shape[0],-1)\n",
        "test_data.shape"
      ],
      "metadata": {
        "colab": {
          "base_uri": "https://localhost:8080/"
        },
        "id": "bOL3AJNQhHvo",
        "outputId": "2e223fcd-b668-47ec-9fa3-63c52dc3e341"
      },
      "execution_count": null,
      "outputs": [
        {
          "output_type": "execute_result",
          "data": {
            "text/plain": [
              "(460, 768)"
            ]
          },
          "metadata": {},
          "execution_count": 69
        }
      ]
    },
    {
      "cell_type": "code",
      "source": [
        "test_data_labels = if_model.predict(test_data)\n",
        "test_data_labels[test_data_labels==-1] = 0"
      ],
      "metadata": {
        "id": "P8mmdk8ghKI8"
      },
      "execution_count": null,
      "outputs": []
    },
    {
      "cell_type": "code",
      "source": [
        "#    0 = anomaly\n",
        "#    1 = normal\n",
        "np.unique(test_data_labels, return_counts=True)"
      ],
      "metadata": {
        "colab": {
          "base_uri": "https://localhost:8080/"
        },
        "id": "tyczajW-hKLk",
        "outputId": "843d0ec1-356d-489a-cb91-085b790a1656"
      },
      "execution_count": null,
      "outputs": [
        {
          "output_type": "execute_result",
          "data": {
            "text/plain": [
              "(array([0, 1]), array([140, 320]))"
            ]
          },
          "metadata": {},
          "execution_count": 71
        }
      ]
    },
    {
      "cell_type": "code",
      "source": [
        "test_data_pred = model.predict(test_data)"
      ],
      "metadata": {
        "colab": {
          "base_uri": "https://localhost:8080/"
        },
        "id": "24SOiDAjhKTi",
        "outputId": "abba0ab8-6a44-4f6b-8132-eeb92e06bf9b"
      },
      "execution_count": null,
      "outputs": [
        {
          "output_type": "stream",
          "name": "stdout",
          "text": [
            "15/15 [==============================] - 0s 2ms/step\n"
          ]
        }
      ]
    },
    {
      "cell_type": "code",
      "source": [
        "y_test_data_pred = cosine_similarity_scores_test_data(test_data, test_data_pred)"
      ],
      "metadata": {
        "id": "Suxv3HjkhQne"
      },
      "execution_count": null,
      "outputs": []
    },
    {
      "cell_type": "code",
      "source": [
        "np.where(y_test_data_pred==0)"
      ],
      "metadata": {
        "colab": {
          "base_uri": "https://localhost:8080/"
        },
        "id": "ZWvtBTb9hXL3",
        "outputId": "01e58a85-20d9-4d1d-a548-c27ae8618544"
      },
      "execution_count": null,
      "outputs": [
        {
          "output_type": "execute_result",
          "data": {
            "text/plain": [
              "(array([  0,   1,   2,   3,   4,   5,   6,   7,   8,   9,  10,  11,  12,\n",
              "         13,  14,  15,  16,  17,  18,  19,  20,  21,  22,  23,  24,  25,\n",
              "         26,  27,  28,  29,  30,  31,  32,  33,  34,  35,  36,  37,  38,\n",
              "         39,  40,  41,  42,  43,  44,  45,  46,  47,  48,  49,  50,  51,\n",
              "         52,  53,  54,  55,  56,  57,  58,  59,  60,  61,  62,  63,  64,\n",
              "         65,  66,  67,  68,  69,  70,  71,  72,  73,  74,  75,  76,  77,\n",
              "         78,  79,  80,  81,  82,  83,  84,  85,  86,  87,  88,  89,  90,\n",
              "         91,  92,  93,  94,  95,  96,  97,  98,  99, 100, 101, 102, 103,\n",
              "        104, 105, 106, 107, 108, 109, 110, 111, 112, 113, 114, 115, 116,\n",
              "        117, 118, 119, 120, 121, 122, 123, 124, 125, 126, 127, 128, 129,\n",
              "        130, 131, 132, 133, 134, 135, 136, 137, 138, 139, 140, 141, 142,\n",
              "        143, 144, 145, 146, 147, 148, 149, 150, 151, 152, 153, 154, 155,\n",
              "        156, 157, 158, 159, 160, 161, 162, 163, 164, 165, 166, 167, 168,\n",
              "        169, 170, 171, 172, 173, 174, 175, 176, 177, 178, 179, 180, 181,\n",
              "        182, 183, 184, 185, 186, 187, 188, 189, 190, 191, 192, 193, 194,\n",
              "        195, 196, 197, 198, 199, 200, 201, 202, 203, 204, 205, 206, 207,\n",
              "        208, 209, 210, 211, 212, 213, 214, 215, 216, 217, 218, 219, 220,\n",
              "        221, 222, 223, 224, 225, 226, 227, 228, 229, 230, 231, 232, 233,\n",
              "        234, 235, 236, 237, 238, 239, 240, 241, 242, 243, 244, 245, 246,\n",
              "        247, 248, 249, 250, 251, 252, 253, 254, 255, 256, 257, 258, 259,\n",
              "        260, 261, 262, 263, 264, 265, 266, 267, 268, 269, 270, 271, 272,\n",
              "        273, 274, 275, 276, 277, 278, 279, 280, 281, 282, 283, 284, 285,\n",
              "        286, 287, 288, 289, 290, 291, 292, 293, 294, 295, 296, 297, 298,\n",
              "        299, 300, 301, 302, 303, 304, 305, 306, 307, 308, 309, 310, 311,\n",
              "        312, 313, 314, 315, 316, 317, 318, 319, 320, 321, 322, 323, 324,\n",
              "        325, 326, 327, 328, 329, 330, 331, 332, 333, 334, 335, 336, 337,\n",
              "        338, 339, 340, 341, 342, 343, 344, 345, 346, 347, 348, 349, 350,\n",
              "        351, 352, 353, 354, 355, 356, 357, 358, 359, 360, 361, 362, 363,\n",
              "        364, 365, 366, 367, 368, 369, 370, 371, 372, 373, 374, 375, 376,\n",
              "        377, 378, 379, 380, 381, 382, 383, 384, 385, 386, 387, 388, 389,\n",
              "        390, 391, 392, 393, 394, 395, 396, 397, 398, 399, 400, 401, 402,\n",
              "        403, 404, 405, 406, 407, 408, 409, 410, 411, 412, 413, 414, 415,\n",
              "        416, 417, 418, 419, 420, 421, 422, 423, 424, 425, 426, 427, 428,\n",
              "        429, 430, 431, 432, 433, 434, 435, 436, 437, 438, 439, 440, 441,\n",
              "        442, 443, 444, 445, 446, 447, 448, 449, 450, 451, 452, 453, 454,\n",
              "        455, 456, 457, 458, 459]),)"
            ]
          },
          "metadata": {},
          "execution_count": 75
        }
      ]
    },
    {
      "cell_type": "code",
      "source": [
        "# anomalies detected - secs\n",
        "np.where(y_test_data_pred==0)[0]*2"
      ],
      "metadata": {
        "colab": {
          "base_uri": "https://localhost:8080/"
        },
        "id": "v2sZAnnLkeir",
        "outputId": "547c8dec-1c15-48e6-ae72-f1774e11985e"
      },
      "execution_count": null,
      "outputs": [
        {
          "output_type": "execute_result",
          "data": {
            "text/plain": [
              "array([  0,   2,   4,   6,   8,  10,  12,  14,  16,  18,  20,  22,  24,\n",
              "        26,  28,  30,  32,  34,  36,  38,  40,  42,  44,  46,  48,  50,\n",
              "        52,  54,  56,  58,  60,  62,  64,  66,  68,  70,  72,  74,  76,\n",
              "        78,  80,  82,  84,  86,  88,  90,  92,  94,  96,  98, 100, 102,\n",
              "       104, 106, 108, 110, 112, 114, 116, 118, 120, 122, 124, 126, 128,\n",
              "       130, 132, 134, 136, 138, 140, 142, 144, 146, 148, 150, 152, 154,\n",
              "       156, 158, 160, 162, 164, 166, 168, 170, 172, 174, 176, 178, 180,\n",
              "       182, 184, 186, 188, 190, 192, 194, 196, 198, 200, 202, 204, 206,\n",
              "       208, 210, 212, 214, 216, 218, 220, 222, 224, 226, 228, 230, 232,\n",
              "       234, 236, 238, 240, 242, 244, 246, 248, 250, 252, 254, 256, 258,\n",
              "       260, 262, 264, 266, 268, 270, 272, 274, 276, 278, 280, 282, 284,\n",
              "       286, 288, 290, 292, 294, 296, 298, 300, 302, 304, 306, 308, 310,\n",
              "       312, 314, 316, 318, 320, 322, 324, 326, 328, 330, 332, 334, 336,\n",
              "       338, 340, 342, 344, 346, 348, 350, 352, 354, 356, 358, 360, 362,\n",
              "       364, 366, 368, 370, 372, 374, 376, 378, 380, 382, 384, 386, 388,\n",
              "       390, 392, 394, 396, 398, 400, 402, 404, 406, 408, 410, 412, 414,\n",
              "       416, 418, 420, 422, 424, 426, 428, 430, 432, 434, 436, 438, 440,\n",
              "       442, 444, 446, 448, 450, 452, 454, 456, 458, 460, 462, 464, 466,\n",
              "       468, 470, 472, 474, 476, 478, 480, 482, 484, 486, 488, 490, 492,\n",
              "       494, 496, 498, 500, 502, 504, 506, 508, 510, 512, 514, 516, 518,\n",
              "       520, 522, 524, 526, 528, 530, 532, 534, 536, 538, 540, 542, 544,\n",
              "       546, 548, 550, 552, 554, 556, 558, 560, 562, 564, 566, 568, 570,\n",
              "       572, 574, 576, 578, 580, 582, 584, 586, 588, 590, 592, 594, 596,\n",
              "       598, 600, 602, 604, 606, 608, 610, 612, 614, 616, 618, 620, 622,\n",
              "       624, 626, 628, 630, 632, 634, 636, 638, 640, 642, 644, 646, 648,\n",
              "       650, 652, 654, 656, 658, 660, 662, 664, 666, 668, 670, 672, 674,\n",
              "       676, 678, 680, 682, 684, 686, 688, 690, 692, 694, 696, 698, 700,\n",
              "       702, 704, 706, 708, 710, 712, 714, 716, 718, 720, 722, 724, 726,\n",
              "       728, 730, 732, 734, 736, 738, 740, 742, 744, 746, 748, 750, 752,\n",
              "       754, 756, 758, 760, 762, 764, 766, 768, 770, 772, 774, 776, 778,\n",
              "       780, 782, 784, 786, 788, 790, 792, 794, 796, 798, 800, 802, 804,\n",
              "       806, 808, 810, 812, 814, 816, 818, 820, 822, 824, 826, 828, 830,\n",
              "       832, 834, 836, 838, 840, 842, 844, 846, 848, 850, 852, 854, 856,\n",
              "       858, 860, 862, 864, 866, 868, 870, 872, 874, 876, 878, 880, 882,\n",
              "       884, 886, 888, 890, 892, 894, 896, 898, 900, 902, 904, 906, 908,\n",
              "       910, 912, 914, 916, 918])"
            ]
          },
          "metadata": {},
          "execution_count": 76
        }
      ]
    },
    {
      "cell_type": "code",
      "source": [
        "from sklearn.metrics import roc_curve, roc_auc_score"
      ],
      "metadata": {
        "id": "hYB-hHc27LUT"
      },
      "execution_count": null,
      "outputs": []
    },
    {
      "cell_type": "code",
      "source": [
        "test_data_labels.shape, y_pred_prob.shape"
      ],
      "metadata": {
        "colab": {
          "base_uri": "https://localhost:8080/"
        },
        "id": "sU9De24J7kxr",
        "outputId": "b15aed5a-60ef-4282-e03e-d351d1bb48b6"
      },
      "execution_count": null,
      "outputs": [
        {
          "output_type": "execute_result",
          "data": {
            "text/plain": [
              "((460,), (2180,))"
            ]
          },
          "metadata": {},
          "execution_count": 109
        }
      ]
    },
    {
      "cell_type": "code",
      "source": [
        "# roc curve for models\n",
        "fpr1, tpr1, thresh1 = roc_curve(y_test, y_pred_prob, pos_label=1)\n",
        "\n",
        "# roc curve for tpr = fpr\n",
        "random_probs = [0 for i in range(len(y_test))]\n",
        "p_fpr, p_tpr, _ = roc_curve(y_test, random_probs, pos_label=1)"
      ],
      "metadata": {
        "id": "qR3SC0uRk8mc"
      },
      "execution_count": null,
      "outputs": []
    },
    {
      "cell_type": "code",
      "source": [
        "# auc scores\n",
        "auc_score = roc_auc_score(y_test, y_pred_prob)\n",
        "print(auc_score)"
      ],
      "metadata": {
        "id": "-qGc7X4z5HXY",
        "colab": {
          "base_uri": "https://localhost:8080/"
        },
        "outputId": "6b967119-d968-41e1-d6d6-234c352f3c1c"
      },
      "execution_count": null,
      "outputs": [
        {
          "output_type": "stream",
          "name": "stdout",
          "text": [
            "0.7870947802197802\n"
          ]
        }
      ]
    },
    {
      "cell_type": "code",
      "source": [
        "plt.style.use('seaborn')\n",
        "\n",
        "sns.set_style(rc = {'axes.facecolor': '#FCF7F9'})\n",
        "# plot roc curves\n",
        "plt.plot(fpr1, tpr1, linestyle='--',color='orange', label='Proposed Approach')\n",
        "plt.plot(p_fpr, p_tpr, linestyle='--', color='red')\n",
        "# title\n",
        "plt.title('ROC curve')\n",
        "# x label\n",
        "plt.xlabel('False Positive Rate')\n",
        "# y label\n",
        "plt.ylabel('True Positive rate')\n",
        "\n",
        "plt.legend(loc='best')\n",
        "# plt.savefig('ROC',dpi=300)\n",
        "plt.savefig('/content/drive/MyDrive/Semester/MTP/Phishing-Detection/ROC.pdf')\n",
        "plt.show();"
      ],
      "metadata": {
        "id": "L43c2C9l5NLC",
        "colab": {
          "base_uri": "https://localhost:8080/",
          "height": 580
        },
        "outputId": "e9c9458f-3a33-464c-f002-b71e5d300b6f"
      },
      "execution_count": null,
      "outputs": [
        {
          "output_type": "stream",
          "name": "stderr",
          "text": [
            "<ipython-input-115-110669c1af8c>:1: MatplotlibDeprecationWarning: The seaborn styles shipped by Matplotlib are deprecated since 3.6, as they no longer correspond to the styles shipped by seaborn. However, they will remain available as 'seaborn-v0_8-<style>'. Alternatively, directly use the seaborn API instead.\n",
            "  plt.style.use('seaborn')\n"
          ]
        },
        {
          "output_type": "display_data",
          "data": {
            "text/plain": [
              "<Figure size 800x550 with 1 Axes>"
            ],
            "image/png": "[encoded data removed]"
          },
          "metadata": {}
        }
      ]
    },
    {
      "cell_type": "code",
      "source": [],
      "metadata": {
        "id": "HAfxPVIz8CnS"
      },
      "execution_count": null,
      "outputs": []
    }
  ]
}